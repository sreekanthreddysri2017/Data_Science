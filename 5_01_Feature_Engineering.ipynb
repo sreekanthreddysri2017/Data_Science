{
  "cells": [
    {
      "cell_type": "markdown",
      "metadata": {
        "id": "view-in-github",
        "colab_type": "text"
      },
      "source": [
        "<a href=\"https://colab.research.google.com/github/sreekanthreddysri2017/Data_Science/blob/main/5_01_Feature_Engineering.ipynb\" target=\"_parent\"><img src=\"https://colab.research.google.com/assets/colab-badge.svg\" alt=\"Open In Colab\"/></a>"
      ]
    },
    {
      "cell_type": "markdown",
      "metadata": {
        "id": "IeDy1PAj0OQE"
      },
      "source": [
        "# <b>Feature Engineering</b>"
      ]
    },
    {
      "cell_type": "markdown",
      "metadata": {
        "id": "C08dpo7v0OQG"
      },
      "source": [
        "## **Agenda**"
      ]
    },
    {
      "cell_type": "markdown",
      "metadata": {
        "id": "hO1BXs5v0OQH"
      },
      "source": [
        " we will cover the following concepts with the help of a business use case:\n",
        "* Features\n",
        "* Feature engineering and it's methods\n",
        "   * Applying domain expertise\n",
        "   * Combining features\n",
        "   * Encoding of categorical variables"
      ]
    },
    {
      "cell_type": "markdown",
      "metadata": {
        "id": "W6IwJTbCGe0a"
      },
      "source": [
        "## **Features**\n",
        "\n",
        "* In most cases, machine learning algorithms are fed a collection of numeric examples that are stacked on top of each other to form a two-dimensional feature matrix.\n",
        "\n",
        "* This matrix has one **example** per row and one **function** per column.\n",
        "\n",
        "* Understanding the task of these features is critical when doing some kind of learning on the dataset.\n",
        "\n",
        "* Since the algorithms create their own internal transformations, deep learning features are normally simple.\n",
        "\n",
        "* This method necessitates a vast volume of data and sacrifices interpretability; but, in image processing and natural language processing applications, these trade offs are often worthwhile.\n",
        "\n",
        "* Feature engineering is needed for the majority of other use cases in order to translate data into a machine learning-ready format.\n",
        "\n",
        "* The features chosen are critical for both the data's interpretability and the model's performance.\n",
        "\n",
        "* A precise machine learning framework cannot be built without feature engineering."
      ]
    },
    {
      "cell_type": "markdown",
      "metadata": {
        "id": "00t7JMHH0OQI"
      },
      "source": [
        "## <b> What Is Feature Engineering?</b>\n",
        "\n",
        "* Feature Engineering repurposes already modified features to build new ones, making it possible for any Machine Learning algorithm to comprehend and master any pattern.\n",
        "\n",
        "* It is the process of **creating new features** from raw data using domain knowledge to make the machine learning algorithms work.\n",
        "\n",
        "* It is one of the fundamental concepts of machine learning and it is both difficult and expensive.\n",
        "\n",
        "* Every new resource must enhance the performance in some way; otherwise, it would have the opposite effect, worsening the final outcome. When this happens, we must use feature selection instead of feature engineering.\n",
        "\n",
        "* Acording to Andrew Ng, \"Coming up with features is difficult, time-consuming, requires expert knowledge.\"\n",
        "\n",
        "* According to Pedro Domingos, feature engineering is the art of coming up with new features with more predictive power using:\n",
        "\n",
        "   - Experience\n",
        "   - Domain expertise\n",
        "   - Empirical processes\n",
        "\n",
        "* The following are some of the most important components of feature engineering:\n",
        "  1. Imputation\n",
        "  2. Handling Outliers\n",
        "  3. Binning\n",
        "  4. One-Hot Encoding\n",
        "  5. Grouping Operations\n",
        "  6. Scaling"
      ]
    },
    {
      "cell_type": "markdown",
      "metadata": {
        "id": "rypevJCI0OQI"
      },
      "source": [
        "### Most Important Techniques in Feature Engineering\n",
        "\n",
        "- Applying domain expertise\n",
        "- Combining features\n",
        "- Encoding of categorical variables"
      ]
    },
    {
      "cell_type": "markdown",
      "metadata": {
        "id": "dpkF5BYj0OQJ"
      },
      "source": [
        "### <b> Applying Domain Expertise </b>\n",
        "\n",
        "Domain expertise or domain knowledge is nothing but expertise in a particular field, such as Education, Healthcare, Consumer Goods, and Retail.\n",
        "A domain expert is someone who is not related to the technology aspect but has in-depth knowledge about the particular industry, how it is shaping up, the trends, and the things that might impact the industry.\n",
        "\n",
        "For example, you are called in to develop a particular application for a consumer goods company, specifically an apparel and footwear one.\n",
        "The application that you build has to align to the industry and its various facets, and you being a technology expert wouldn't know much about it. This is where a domain expert will come in and explain how that industry works and what would be the best way to have the application built."
      ]
    },
    {
      "cell_type": "markdown",
      "metadata": {
        "id": "K14QcJdg0OQK"
      },
      "source": [
        "### <b> Combining Features </b>\n",
        "\n",
        "This is one of the most crucial part of feature engineering that involves analyzing the data set and understanding the variable(s) to combine one or more features to create new ones. This process involves intuitive decision-making and a small amount of research about the domain of the data set.\n",
        "\n",
        "Combining features helps to increase the performance of the model which is fitted on the data.\n"
      ]
    },
    {
      "cell_type": "markdown",
      "metadata": {
        "id": "st2vQ3XC0OQc"
      },
      "source": [
        "## <b>Encoding of Categorical Variables</b>\n",
        "\n",
        "Let's first see what encoding is.\n",
        "\n",
        "#### **What Is Encoding?**\n",
        "\n",
        "Encoding is used to transform the categorical variable into numerical features.\n",
        "\n",
        "For example, we have an attribute called gender in a data set where values are male and female. In this case, the numerical encoded version of the values will be 1 for male, 0 for female, or vice versa.\n"
      ]
    },
    {
      "cell_type": "markdown",
      "metadata": {
        "id": "7uqj_i8o0OQd"
      },
      "source": [
        "Since different kinds of categorical variables capture different amount of information, we need different techniques to encode them."
      ]
    },
    {
      "cell_type": "markdown",
      "metadata": {
        "id": "k2JkbSy15Cf7"
      },
      "source": [
        "### **Label Encoding**\n",
        "\n",
        "Label encoding is a handy technique to encode categorical variables. However, such encoded nominal variables might end up being misinterpreted as ordinal."
      ]
    },
    {
      "cell_type": "markdown",
      "metadata": {
        "id": "frQWCn1P0OQo"
      },
      "source": [
        "#### **Encoding Can Be Performed on the Following Types of Variables:**\n",
        "\n",
        "#### Nominal Variables\n",
        "\n",
        "Consider the following three categorical variables and their values:\n",
        "\n",
        "**Color**: Blue, Green, Red, Yellow\n",
        "\n",
        "**Educational Qualification**: Primary School, Secondary School, Graduate, Post-Graduate, PhD\n",
        "\n",
        "**Salary Bracket**: 0-50,000, 50,001-100,000, 100,001-150,000, 150,001-200,000\n",
        "\n",
        "Although all three of them are categorical variables, they are different in the amount of information they convey.\n",
        "Let's look at them one by one.\n",
        "\n",
        "Color conveys blue is different from red. That's all. The value of the variable is not meant to capture any relative difference among the values. Such variables are called `Nominal Variables`."
      ]
    },
    {
      "cell_type": "markdown",
      "metadata": {
        "id": "22HsDeX_0OQp"
      },
      "source": [
        "####  Ordinal Variables\n",
        "\n",
        "Now consider educational qualifications.\n",
        "\n",
        "The value \"graduate\" does not only convey that it is different from the value say \"Primary school\", it also implies that it is more in terms of qualification than \"Primary School\".\n",
        "\n",
        "Such variables are called `Ordinal Variables` because they convey a sense of order.\n",
        "\n",
        "In our example, Primary School < Secondary School < Graduate < Post-Graduate < PhD. (in terms of qualification)."
      ]
    },
    {
      "cell_type": "markdown",
      "metadata": {
        "id": "58djalCk0OQp"
      },
      "source": [
        "#### Interval Variables\n",
        "\n",
        "The third variable, salary bracket is similar to educational qualification by conveying order (a person earning 50,001-100,000 earns more salary than 0-50,000).\n",
        "\n",
        "However, here, apart from knowing the order, we also know the interval between the values.\n",
        "\n",
        "Here we can say that the averages of each of the values are separated by 50,000. Such variables are called `Interval variables`."
      ]
    },
    {
      "cell_type": "markdown",
      "metadata": {
        "id": "3oqIfsw00OQq"
      },
      "source": [
        "## Techniques Used for Encoding Variables\n",
        "There are two types of broadly used algorithms which perform the task of encoding of variables.\n"
      ]
    },
    {
      "cell_type": "markdown",
      "metadata": {
        "id": "UkZbJTycrRXl"
      },
      "source": [
        "### There are few libraries required to perform encoding variables:\n",
        "* Pandas - It helps to retrieve datasets, handle missing data and perform data wrangling.\n",
        "* NumPy - It helps to perform numerical operations in the dataset.\n",
        "* sklearn.preprocessing - It helps in data transformation."
      ]
    },
    {
      "cell_type": "code",
      "execution_count": null,
      "metadata": {
        "id": "-BCPmt66IMA4"
      },
      "outputs": [],
      "source": [
        "#Select the cell and click on run icon to import libraries.\n",
        "\n",
        "import pandas as pd\n",
        "import numpy as np\n",
        "\n",
        "# Import label encoder\n",
        "from sklearn import preprocessing"
      ]
    },
    {
      "cell_type": "markdown",
      "metadata": {
        "id": "HNEOGNsvrRXn"
      },
      "source": [
        "**Instruction:**\n",
        "\n",
        " Download the **`Iris.csv`** dataset file from Kaggle"
      ]
    },
    {
      "cell_type": "markdown",
      "metadata": {
        "id": "jnRd-6d5rRXn"
      },
      "source": [
        "**Note 1:**  \n",
        "* The **`iris_df`** is a dataframe that stores data imported from a CSV file in rows and columns format.\n",
        "* The **head()** function helps to view the first few data present in the **`iris_df`** dataframe."
      ]
    },
    {
      "cell_type": "code",
      "execution_count": null,
      "metadata": {
        "colab": {
          "base_uri": "https://localhost:8080/",
          "height": 206
        },
        "id": "w4ggF7QGITl1",
        "outputId": "d617f11f-a3bc-4d84-d240-b3c392dc1abd"
      },
      "outputs": [
        {
          "output_type": "execute_result",
          "data": {
            "text/plain": [
              "   Id  SepalLengthCm  SepalWidthCm  PetalLengthCm  PetalWidthCm      Species\n",
              "0   1            5.1           3.5            1.4           0.2  Iris-setosa\n",
              "1   2            4.9           3.0            1.4           0.2  Iris-setosa\n",
              "2   3            4.7           3.2            1.3           0.2  Iris-setosa\n",
              "3   4            4.6           3.1            1.5           0.2  Iris-setosa\n",
              "4   5            5.0           3.6            1.4           0.2  Iris-setosa"
            ],
            "text/html": [
              "\n",
              "  <div id=\"df-5148d62f-cf00-4fb0-9087-4b628a01bcc3\" class=\"colab-df-container\">\n",
              "    <div>\n",
              "<style scoped>\n",
              "    .dataframe tbody tr th:only-of-type {\n",
              "        vertical-align: middle;\n",
              "    }\n",
              "\n",
              "    .dataframe tbody tr th {\n",
              "        vertical-align: top;\n",
              "    }\n",
              "\n",
              "    .dataframe thead th {\n",
              "        text-align: right;\n",
              "    }\n",
              "</style>\n",
              "<table border=\"1\" class=\"dataframe\">\n",
              "  <thead>\n",
              "    <tr style=\"text-align: right;\">\n",
              "      <th></th>\n",
              "      <th>Id</th>\n",
              "      <th>SepalLengthCm</th>\n",
              "      <th>SepalWidthCm</th>\n",
              "      <th>PetalLengthCm</th>\n",
              "      <th>PetalWidthCm</th>\n",
              "      <th>Species</th>\n",
              "    </tr>\n",
              "  </thead>\n",
              "  <tbody>\n",
              "    <tr>\n",
              "      <th>0</th>\n",
              "      <td>1</td>\n",
              "      <td>5.1</td>\n",
              "      <td>3.5</td>\n",
              "      <td>1.4</td>\n",
              "      <td>0.2</td>\n",
              "      <td>Iris-setosa</td>\n",
              "    </tr>\n",
              "    <tr>\n",
              "      <th>1</th>\n",
              "      <td>2</td>\n",
              "      <td>4.9</td>\n",
              "      <td>3.0</td>\n",
              "      <td>1.4</td>\n",
              "      <td>0.2</td>\n",
              "      <td>Iris-setosa</td>\n",
              "    </tr>\n",
              "    <tr>\n",
              "      <th>2</th>\n",
              "      <td>3</td>\n",
              "      <td>4.7</td>\n",
              "      <td>3.2</td>\n",
              "      <td>1.3</td>\n",
              "      <td>0.2</td>\n",
              "      <td>Iris-setosa</td>\n",
              "    </tr>\n",
              "    <tr>\n",
              "      <th>3</th>\n",
              "      <td>4</td>\n",
              "      <td>4.6</td>\n",
              "      <td>3.1</td>\n",
              "      <td>1.5</td>\n",
              "      <td>0.2</td>\n",
              "      <td>Iris-setosa</td>\n",
              "    </tr>\n",
              "    <tr>\n",
              "      <th>4</th>\n",
              "      <td>5</td>\n",
              "      <td>5.0</td>\n",
              "      <td>3.6</td>\n",
              "      <td>1.4</td>\n",
              "      <td>0.2</td>\n",
              "      <td>Iris-setosa</td>\n",
              "    </tr>\n",
              "  </tbody>\n",
              "</table>\n",
              "</div>\n",
              "    <div class=\"colab-df-buttons\">\n",
              "\n",
              "  <div class=\"colab-df-container\">\n",
              "    <button class=\"colab-df-convert\" onclick=\"convertToInteractive('df-5148d62f-cf00-4fb0-9087-4b628a01bcc3')\"\n",
              "            title=\"Convert this dataframe to an interactive table.\"\n",
              "            style=\"display:none;\">\n",
              "\n",
              "  <svg xmlns=\"http://www.w3.org/2000/svg\" height=\"24px\" viewBox=\"0 -960 960 960\">\n",
              "    <path d=\"M120-120v-720h720v720H120Zm60-500h600v-160H180v160Zm220 220h160v-160H400v160Zm0 220h160v-160H400v160ZM180-400h160v-160H180v160Zm440 0h160v-160H620v160ZM180-180h160v-160H180v160Zm440 0h160v-160H620v160Z\"/>\n",
              "  </svg>\n",
              "    </button>\n",
              "\n",
              "  <style>\n",
              "    .colab-df-container {\n",
              "      display:flex;\n",
              "      gap: 12px;\n",
              "    }\n",
              "\n",
              "    .colab-df-convert {\n",
              "      background-color: #E8F0FE;\n",
              "      border: none;\n",
              "      border-radius: 50%;\n",
              "      cursor: pointer;\n",
              "      display: none;\n",
              "      fill: #1967D2;\n",
              "      height: 32px;\n",
              "      padding: 0 0 0 0;\n",
              "      width: 32px;\n",
              "    }\n",
              "\n",
              "    .colab-df-convert:hover {\n",
              "      background-color: #E2EBFA;\n",
              "      box-shadow: 0px 1px 2px rgba(60, 64, 67, 0.3), 0px 1px 3px 1px rgba(60, 64, 67, 0.15);\n",
              "      fill: #174EA6;\n",
              "    }\n",
              "\n",
              "    .colab-df-buttons div {\n",
              "      margin-bottom: 4px;\n",
              "    }\n",
              "\n",
              "    [theme=dark] .colab-df-convert {\n",
              "      background-color: #3B4455;\n",
              "      fill: #D2E3FC;\n",
              "    }\n",
              "\n",
              "    [theme=dark] .colab-df-convert:hover {\n",
              "      background-color: #434B5C;\n",
              "      box-shadow: 0px 1px 3px 1px rgba(0, 0, 0, 0.15);\n",
              "      filter: drop-shadow(0px 1px 2px rgba(0, 0, 0, 0.3));\n",
              "      fill: #FFFFFF;\n",
              "    }\n",
              "  </style>\n",
              "\n",
              "    <script>\n",
              "      const buttonEl =\n",
              "        document.querySelector('#df-5148d62f-cf00-4fb0-9087-4b628a01bcc3 button.colab-df-convert');\n",
              "      buttonEl.style.display =\n",
              "        google.colab.kernel.accessAllowed ? 'block' : 'none';\n",
              "\n",
              "      async function convertToInteractive(key) {\n",
              "        const element = document.querySelector('#df-5148d62f-cf00-4fb0-9087-4b628a01bcc3');\n",
              "        const dataTable =\n",
              "          await google.colab.kernel.invokeFunction('convertToInteractive',\n",
              "                                                    [key], {});\n",
              "        if (!dataTable) return;\n",
              "\n",
              "        const docLinkHtml = 'Like what you see? Visit the ' +\n",
              "          '<a target=\"_blank\" href=https://colab.research.google.com/notebooks/data_table.ipynb>data table notebook</a>'\n",
              "          + ' to learn more about interactive tables.';\n",
              "        element.innerHTML = '';\n",
              "        dataTable['output_type'] = 'display_data';\n",
              "        await google.colab.output.renderOutput(dataTable, element);\n",
              "        const docLink = document.createElement('div');\n",
              "        docLink.innerHTML = docLinkHtml;\n",
              "        element.appendChild(docLink);\n",
              "      }\n",
              "    </script>\n",
              "  </div>\n",
              "\n",
              "\n",
              "<div id=\"df-bcfbd302-6234-4d82-9c08-26902a60f7ba\">\n",
              "  <button class=\"colab-df-quickchart\" onclick=\"quickchart('df-bcfbd302-6234-4d82-9c08-26902a60f7ba')\"\n",
              "            title=\"Suggest charts\"\n",
              "            style=\"display:none;\">\n",
              "\n",
              "<svg xmlns=\"http://www.w3.org/2000/svg\" height=\"24px\"viewBox=\"0 0 24 24\"\n",
              "     width=\"24px\">\n",
              "    <g>\n",
              "        <path d=\"M19 3H5c-1.1 0-2 .9-2 2v14c0 1.1.9 2 2 2h14c1.1 0 2-.9 2-2V5c0-1.1-.9-2-2-2zM9 17H7v-7h2v7zm4 0h-2V7h2v10zm4 0h-2v-4h2v4z\"/>\n",
              "    </g>\n",
              "</svg>\n",
              "  </button>\n",
              "\n",
              "<style>\n",
              "  .colab-df-quickchart {\n",
              "      --bg-color: #E8F0FE;\n",
              "      --fill-color: #1967D2;\n",
              "      --hover-bg-color: #E2EBFA;\n",
              "      --hover-fill-color: #174EA6;\n",
              "      --disabled-fill-color: #AAA;\n",
              "      --disabled-bg-color: #DDD;\n",
              "  }\n",
              "\n",
              "  [theme=dark] .colab-df-quickchart {\n",
              "      --bg-color: #3B4455;\n",
              "      --fill-color: #D2E3FC;\n",
              "      --hover-bg-color: #434B5C;\n",
              "      --hover-fill-color: #FFFFFF;\n",
              "      --disabled-bg-color: #3B4455;\n",
              "      --disabled-fill-color: #666;\n",
              "  }\n",
              "\n",
              "  .colab-df-quickchart {\n",
              "    background-color: var(--bg-color);\n",
              "    border: none;\n",
              "    border-radius: 50%;\n",
              "    cursor: pointer;\n",
              "    display: none;\n",
              "    fill: var(--fill-color);\n",
              "    height: 32px;\n",
              "    padding: 0;\n",
              "    width: 32px;\n",
              "  }\n",
              "\n",
              "  .colab-df-quickchart:hover {\n",
              "    background-color: var(--hover-bg-color);\n",
              "    box-shadow: 0 1px 2px rgba(60, 64, 67, 0.3), 0 1px 3px 1px rgba(60, 64, 67, 0.15);\n",
              "    fill: var(--button-hover-fill-color);\n",
              "  }\n",
              "\n",
              "  .colab-df-quickchart-complete:disabled,\n",
              "  .colab-df-quickchart-complete:disabled:hover {\n",
              "    background-color: var(--disabled-bg-color);\n",
              "    fill: var(--disabled-fill-color);\n",
              "    box-shadow: none;\n",
              "  }\n",
              "\n",
              "  .colab-df-spinner {\n",
              "    border: 2px solid var(--fill-color);\n",
              "    border-color: transparent;\n",
              "    border-bottom-color: var(--fill-color);\n",
              "    animation:\n",
              "      spin 1s steps(1) infinite;\n",
              "  }\n",
              "\n",
              "  @keyframes spin {\n",
              "    0% {\n",
              "      border-color: transparent;\n",
              "      border-bottom-color: var(--fill-color);\n",
              "      border-left-color: var(--fill-color);\n",
              "    }\n",
              "    20% {\n",
              "      border-color: transparent;\n",
              "      border-left-color: var(--fill-color);\n",
              "      border-top-color: var(--fill-color);\n",
              "    }\n",
              "    30% {\n",
              "      border-color: transparent;\n",
              "      border-left-color: var(--fill-color);\n",
              "      border-top-color: var(--fill-color);\n",
              "      border-right-color: var(--fill-color);\n",
              "    }\n",
              "    40% {\n",
              "      border-color: transparent;\n",
              "      border-right-color: var(--fill-color);\n",
              "      border-top-color: var(--fill-color);\n",
              "    }\n",
              "    60% {\n",
              "      border-color: transparent;\n",
              "      border-right-color: var(--fill-color);\n",
              "    }\n",
              "    80% {\n",
              "      border-color: transparent;\n",
              "      border-right-color: var(--fill-color);\n",
              "      border-bottom-color: var(--fill-color);\n",
              "    }\n",
              "    90% {\n",
              "      border-color: transparent;\n",
              "      border-bottom-color: var(--fill-color);\n",
              "    }\n",
              "  }\n",
              "</style>\n",
              "\n",
              "  <script>\n",
              "    async function quickchart(key) {\n",
              "      const quickchartButtonEl =\n",
              "        document.querySelector('#' + key + ' button');\n",
              "      quickchartButtonEl.disabled = true;  // To prevent multiple clicks.\n",
              "      quickchartButtonEl.classList.add('colab-df-spinner');\n",
              "      try {\n",
              "        const charts = await google.colab.kernel.invokeFunction(\n",
              "            'suggestCharts', [key], {});\n",
              "      } catch (error) {\n",
              "        console.error('Error during call to suggestCharts:', error);\n",
              "      }\n",
              "      quickchartButtonEl.classList.remove('colab-df-spinner');\n",
              "      quickchartButtonEl.classList.add('colab-df-quickchart-complete');\n",
              "    }\n",
              "    (() => {\n",
              "      let quickchartButtonEl =\n",
              "        document.querySelector('#df-bcfbd302-6234-4d82-9c08-26902a60f7ba button');\n",
              "      quickchartButtonEl.style.display =\n",
              "        google.colab.kernel.accessAllowed ? 'block' : 'none';\n",
              "    })();\n",
              "  </script>\n",
              "</div>\n",
              "\n",
              "    </div>\n",
              "  </div>\n"
            ]
          },
          "metadata": {},
          "execution_count": 2
        }
      ],
      "source": [
        "#Select the cell and click on run icon to retrieve and view the dataset.\n",
        "# Import dataset\n",
        "\n",
        "iris_df = pd.read_csv('Iris.csv')\n",
        "iris_df.head()"
      ]
    },
    {
      "cell_type": "markdown",
      "metadata": {
        "id": "4c_XTTcfrRXp"
      },
      "source": [
        "**Observations from the above output:**\n",
        ">View few records of Iris dataset"
      ]
    },
    {
      "cell_type": "markdown",
      "metadata": {
        "id": "CtOwfdD_rRXq"
      },
      "source": [
        "\n",
        "**Note 2:**  \n",
        "The **info()** function helps to understand the dataset, the column name, total null values, and data type."
      ]
    },
    {
      "cell_type": "code",
      "execution_count": null,
      "metadata": {
        "id": "7o4PhZCZrRXq",
        "outputId": "903a6c89-d450-4da7-db4b-eb260d4d2008"
      },
      "outputs": [
        {
          "name": "stdout",
          "output_type": "stream",
          "text": [
            "<class 'pandas.core.frame.DataFrame'>\n",
            "RangeIndex: 150 entries, 0 to 149\n",
            "Data columns (total 5 columns):\n",
            " #   Column        Non-Null Count  Dtype  \n",
            "---  ------        --------------  -----  \n",
            " 0   sepal_length  150 non-null    float64\n",
            " 1   sepal_width   150 non-null    float64\n",
            " 2   petal_length  150 non-null    float64\n",
            " 3   petal_width   150 non-null    float64\n",
            " 4   species       150 non-null    object \n",
            "dtypes: float64(4), object(1)\n",
            "memory usage: 6.0+ KB\n"
          ]
        }
      ],
      "source": [
        "#Select the cell and click on run icon\n",
        "iris_df.info()"
      ]
    },
    {
      "cell_type": "markdown",
      "metadata": {
        "id": "w07jJpyjrRXq"
      },
      "source": [
        "**Observations from the above output:**\n",
        ">The variable **`species`** is a categorical Dtype **'object'**."
      ]
    },
    {
      "cell_type": "markdown",
      "metadata": {
        "id": "zuQugnqCrRXq"
      },
      "source": [
        "**Note 3:**\n",
        "\n",
        "The **LabelEncoder()** function is used to convert categorical variables into numerical. According to our dataset, variable **`species`** is categorical, so convert **`species`** into numerical type."
      ]
    },
    {
      "cell_type": "code",
      "execution_count": null,
      "metadata": {
        "id": "ZhNSljFTrRXq"
      },
      "outputs": [],
      "source": [
        "#Select the cell and click on run icon to define LabelEnocder\n",
        "label_encoder = preprocessing.LabelEncoder()"
      ]
    },
    {
      "cell_type": "markdown",
      "metadata": {
        "id": "Bv5a7iKirRXr"
      },
      "source": [
        "**Note 4:**\n",
        "\n",
        "The **unique()** function is used to identify distinct rows present in the **`iris_df`** dataframe."
      ]
    },
    {
      "cell_type": "code",
      "execution_count": null,
      "metadata": {
        "colab": {
          "base_uri": "https://localhost:8080/"
        },
        "id": "xX1zOQkmITfl",
        "outputId": "e379745f-d80f-4156-950a-88425bda86b8"
      },
      "outputs": [
        {
          "data": {
            "text/plain": [
              "array(['setosa', 'versicolor', 'virginica'], dtype=object)"
            ]
          },
          "execution_count": 9,
          "metadata": {},
          "output_type": "execute_result"
        }
      ],
      "source": [
        "#Select the cell and click on run icon\n",
        "iris_df['species'].unique()"
      ]
    },
    {
      "cell_type": "markdown",
      "metadata": {
        "id": "If2eAPgPrRXr"
      },
      "source": [
        "**Observations from the above output:**\n",
        ">There are three categories of variable **`species`** such as *'setosa'*, *'versicolor'*, and *'virginica'* to be encoded."
      ]
    },
    {
      "cell_type": "markdown",
      "metadata": {
        "id": "r5qix4GNrRXr"
      },
      "source": [
        "**Note 5:**\n",
        "\n",
        "* The **fit_transform()** method calculates the mean and variance of each feature and transforms all the features using the respective mean and variance.\n",
        "* The **head()** function helps to view the first few data present in the **`iris_df`** dataframe."
      ]
    },
    {
      "cell_type": "code",
      "execution_count": null,
      "metadata": {
        "colab": {
          "base_uri": "https://localhost:8080/",
          "height": 204
        },
        "id": "FeL3xpSWITYp",
        "outputId": "6a70119a-0729-49d8-b86c-754121fedf12"
      },
      "outputs": [
        {
          "data": {
            "text/html": [
              "<div>\n",
              "<style scoped>\n",
              "    .dataframe tbody tr th:only-of-type {\n",
              "        vertical-align: middle;\n",
              "    }\n",
              "\n",
              "    .dataframe tbody tr th {\n",
              "        vertical-align: top;\n",
              "    }\n",
              "\n",
              "    .dataframe thead th {\n",
              "        text-align: right;\n",
              "    }\n",
              "</style>\n",
              "<table border=\"1\" class=\"dataframe\">\n",
              "  <thead>\n",
              "    <tr style=\"text-align: right;\">\n",
              "      <th></th>\n",
              "      <th>sepal_length</th>\n",
              "      <th>sepal_width</th>\n",
              "      <th>petal_length</th>\n",
              "      <th>petal_width</th>\n",
              "      <th>species</th>\n",
              "    </tr>\n",
              "  </thead>\n",
              "  <tbody>\n",
              "    <tr>\n",
              "      <th>0</th>\n",
              "      <td>5.1</td>\n",
              "      <td>3.5</td>\n",
              "      <td>1.4</td>\n",
              "      <td>0.2</td>\n",
              "      <td>0</td>\n",
              "    </tr>\n",
              "    <tr>\n",
              "      <th>1</th>\n",
              "      <td>4.9</td>\n",
              "      <td>3.0</td>\n",
              "      <td>1.4</td>\n",
              "      <td>0.2</td>\n",
              "      <td>0</td>\n",
              "    </tr>\n",
              "    <tr>\n",
              "      <th>2</th>\n",
              "      <td>4.7</td>\n",
              "      <td>3.2</td>\n",
              "      <td>1.3</td>\n",
              "      <td>0.2</td>\n",
              "      <td>0</td>\n",
              "    </tr>\n",
              "    <tr>\n",
              "      <th>3</th>\n",
              "      <td>4.6</td>\n",
              "      <td>3.1</td>\n",
              "      <td>1.5</td>\n",
              "      <td>0.2</td>\n",
              "      <td>0</td>\n",
              "    </tr>\n",
              "    <tr>\n",
              "      <th>4</th>\n",
              "      <td>5.0</td>\n",
              "      <td>3.6</td>\n",
              "      <td>1.4</td>\n",
              "      <td>0.2</td>\n",
              "      <td>0</td>\n",
              "    </tr>\n",
              "  </tbody>\n",
              "</table>\n",
              "</div>"
            ],
            "text/plain": [
              "   sepal_length  sepal_width  petal_length  petal_width  species\n",
              "0           5.1          3.5           1.4          0.2        0\n",
              "1           4.9          3.0           1.4          0.2        0\n",
              "2           4.7          3.2           1.3          0.2        0\n",
              "3           4.6          3.1           1.5          0.2        0\n",
              "4           5.0          3.6           1.4          0.2        0"
            ]
          },
          "execution_count": 10,
          "metadata": {},
          "output_type": "execute_result"
        }
      ],
      "source": [
        "#Select the cell and click on run icon\n",
        "iris_df['species']= label_encoder.fit_transform(iris_df['species'])\n",
        "iris_df.head()"
      ]
    },
    {
      "cell_type": "markdown",
      "metadata": {
        "id": "6QnvWDqprRXr"
      },
      "source": [
        "**Observations from the above output:**\n",
        ">The variable **`species`** is converted into numerical variable as 0's and 1's."
      ]
    },
    {
      "cell_type": "code",
      "execution_count": null,
      "metadata": {
        "id": "7QoZkMoPrRXr",
        "outputId": "5549c3f7-a3b7-4eae-c027-9c92ee72c0d3"
      },
      "outputs": [
        {
          "name": "stdout",
          "output_type": "stream",
          "text": [
            "<class 'pandas.core.frame.DataFrame'>\n",
            "RangeIndex: 150 entries, 0 to 149\n",
            "Data columns (total 5 columns):\n",
            " #   Column        Non-Null Count  Dtype  \n",
            "---  ------        --------------  -----  \n",
            " 0   sepal_length  150 non-null    float64\n",
            " 1   sepal_width   150 non-null    float64\n",
            " 2   petal_length  150 non-null    float64\n",
            " 3   petal_width   150 non-null    float64\n",
            " 4   species       150 non-null    int64  \n",
            "dtypes: float64(4), int64(1)\n",
            "memory usage: 6.0 KB\n"
          ]
        }
      ],
      "source": [
        "#Select the cell and click on run icon\n",
        "\n",
        "iris_df.info()"
      ]
    },
    {
      "cell_type": "markdown",
      "metadata": {
        "id": "Qg0TJzq7rRXs"
      },
      "source": [
        "**Observations from the above output:**\n",
        ">The variable **`species`** Dtype is converted to **'int64'**.\n",
        "\n",
        ">>Using LabelEnocder, we can convert a categorical variable into a numerical variable."
      ]
    },
    {
      "cell_type": "markdown",
      "metadata": {
        "id": "B3-LfzL60OQr"
      },
      "source": [
        "## **One Hot Encoding**\n",
        "\n",
        "A data set with more dimensions requires more parameters for the model to understand, and that means more rows to reliably learn those parameters.\n",
        "\n",
        "The effect of using One Hot Encoder is the addition of a number of columns (dimensions).\n",
        "\n",
        "If the number of rows in the data set is fixed, the addition of extra dimensions without adding more information for the models to learn from can have a detrimental effect on the eventual model accuracy.\n",
        "\n",
        "If the number of rows in the dataset is fixed and the addition of extra dimension without adding more information in the model would affect the model accuracy.\n",
        "\n",
        "In the below example, you can see that category of Variable X is enocded into separate columns such as Variable X_Blue, Variable X_Yellow, Variable X_Red.\n",
        "\n",
        "![one_hot](https://labcontent.simplicdn.net/data-content/content-assets/Data_and_AI/Applied_Machine_Learning/Images/0.4_Feature_Engineering/Trainer_PPT_and_IPYNB/one_hot.png)"
      ]
    },
    {
      "cell_type": "markdown",
      "metadata": {
        "id": "0TRA0FNRrRXs"
      },
      "source": [
        "There are few libraries required to perform **One Hot Encoding**:\n",
        "\n",
        "* **datasets**: It helps to load the datasets from sklearn library.\n",
        "\n",
        "* **OneHotEncoder**: It helps to encode categorical variable."
      ]
    },
    {
      "cell_type": "code",
      "execution_count": null,
      "metadata": {
        "id": "AEcdRFYT577P"
      },
      "outputs": [],
      "source": [
        "#Select the cell and click on run icon\n",
        "from sklearn import datasets\n",
        "from sklearn.preprocessing import OneHotEncoder"
      ]
    },
    {
      "cell_type": "markdown",
      "metadata": {
        "id": "kPFCeyXrrRXs"
      },
      "source": [
        "**Note 6:**\n",
        "\n",
        "The given code helps to load the **Iris dataset** and create a dataframe **iris_data**, and **y** variable consists of target values."
      ]
    },
    {
      "cell_type": "code",
      "execution_count": null,
      "metadata": {
        "id": "epJQk8L4rRXs"
      },
      "outputs": [],
      "source": [
        "#Select the cell and click on run icon\n",
        "iris_data = datasets.load_iris()\n",
        "\n",
        "iris_data = pd.DataFrame(data=np.c_[iris_data[\"data\"], iris_data[\"target\"]], columns=iris_data[\"feature_names\"] + [\"target\"])\n",
        "y = iris_data.target.values"
      ]
    },
    {
      "cell_type": "markdown",
      "metadata": {
        "id": "JuSu_Mo_rRXs"
      },
      "source": [
        "**Note 7:**\n",
        "\n",
        "The **head()** function is used to view the first few data present in the **`iris_data`** dataframe."
      ]
    },
    {
      "cell_type": "code",
      "execution_count": null,
      "metadata": {
        "id": "kZjnyFK4rRXs",
        "outputId": "fe8dfeac-53b4-497a-bace-b92e787198b0"
      },
      "outputs": [
        {
          "data": {
            "text/html": [
              "<div>\n",
              "<style scoped>\n",
              "    .dataframe tbody tr th:only-of-type {\n",
              "        vertical-align: middle;\n",
              "    }\n",
              "\n",
              "    .dataframe tbody tr th {\n",
              "        vertical-align: top;\n",
              "    }\n",
              "\n",
              "    .dataframe thead th {\n",
              "        text-align: right;\n",
              "    }\n",
              "</style>\n",
              "<table border=\"1\" class=\"dataframe\">\n",
              "  <thead>\n",
              "    <tr style=\"text-align: right;\">\n",
              "      <th></th>\n",
              "      <th>sepal length (cm)</th>\n",
              "      <th>sepal width (cm)</th>\n",
              "      <th>petal length (cm)</th>\n",
              "      <th>petal width (cm)</th>\n",
              "      <th>target</th>\n",
              "    </tr>\n",
              "  </thead>\n",
              "  <tbody>\n",
              "    <tr>\n",
              "      <th>0</th>\n",
              "      <td>5.1</td>\n",
              "      <td>3.5</td>\n",
              "      <td>1.4</td>\n",
              "      <td>0.2</td>\n",
              "      <td>0.0</td>\n",
              "    </tr>\n",
              "    <tr>\n",
              "      <th>1</th>\n",
              "      <td>4.9</td>\n",
              "      <td>3.0</td>\n",
              "      <td>1.4</td>\n",
              "      <td>0.2</td>\n",
              "      <td>0.0</td>\n",
              "    </tr>\n",
              "    <tr>\n",
              "      <th>2</th>\n",
              "      <td>4.7</td>\n",
              "      <td>3.2</td>\n",
              "      <td>1.3</td>\n",
              "      <td>0.2</td>\n",
              "      <td>0.0</td>\n",
              "    </tr>\n",
              "    <tr>\n",
              "      <th>3</th>\n",
              "      <td>4.6</td>\n",
              "      <td>3.1</td>\n",
              "      <td>1.5</td>\n",
              "      <td>0.2</td>\n",
              "      <td>0.0</td>\n",
              "    </tr>\n",
              "    <tr>\n",
              "      <th>4</th>\n",
              "      <td>5.0</td>\n",
              "      <td>3.6</td>\n",
              "      <td>1.4</td>\n",
              "      <td>0.2</td>\n",
              "      <td>0.0</td>\n",
              "    </tr>\n",
              "  </tbody>\n",
              "</table>\n",
              "</div>"
            ],
            "text/plain": [
              "   sepal length (cm)  sepal width (cm)  petal length (cm)  petal width (cm)  \\\n",
              "0                5.1               3.5                1.4               0.2   \n",
              "1                4.9               3.0                1.4               0.2   \n",
              "2                4.7               3.2                1.3               0.2   \n",
              "3                4.6               3.1                1.5               0.2   \n",
              "4                5.0               3.6                1.4               0.2   \n",
              "\n",
              "   target  \n",
              "0     0.0  \n",
              "1     0.0  \n",
              "2     0.0  \n",
              "3     0.0  \n",
              "4     0.0  "
            ]
          },
          "execution_count": 14,
          "metadata": {},
          "output_type": "execute_result"
        }
      ],
      "source": [
        "#Select the cell and click on run icon\n",
        "iris_data.head()"
      ]
    },
    {
      "cell_type": "markdown",
      "metadata": {
        "id": "GWiyYzGprRXt"
      },
      "source": [
        "**Observations from the above output:**\n",
        ">There are four dependent variable and one independent variable present in the **`iris_data`** dataframe.\n"
      ]
    },
    {
      "cell_type": "code",
      "execution_count": null,
      "metadata": {
        "colab": {
          "base_uri": "https://localhost:8080/"
        },
        "id": "95h7x7TU753d",
        "outputId": "e536cd7f-416e-48a8-8517-4836261997f7"
      },
      "outputs": [
        {
          "data": {
            "text/plain": [
              "array([0., 0., 0., 0., 0., 0., 0., 0., 0., 0., 0., 0., 0., 0., 0., 0., 0.,\n",
              "       0., 0., 0., 0., 0., 0., 0., 0., 0., 0., 0., 0., 0., 0., 0., 0., 0.,\n",
              "       0., 0., 0., 0., 0., 0., 0., 0., 0., 0., 0., 0., 0., 0., 0., 0., 1.,\n",
              "       1., 1., 1., 1., 1., 1., 1., 1., 1., 1., 1., 1., 1., 1., 1., 1., 1.,\n",
              "       1., 1., 1., 1., 1., 1., 1., 1., 1., 1., 1., 1., 1., 1., 1., 1., 1.,\n",
              "       1., 1., 1., 1., 1., 1., 1., 1., 1., 1., 1., 1., 1., 1., 1., 2., 2.,\n",
              "       2., 2., 2., 2., 2., 2., 2., 2., 2., 2., 2., 2., 2., 2., 2., 2., 2.,\n",
              "       2., 2., 2., 2., 2., 2., 2., 2., 2., 2., 2., 2., 2., 2., 2., 2., 2.,\n",
              "       2., 2., 2., 2., 2., 2., 2., 2., 2., 2., 2., 2., 2., 2.])"
            ]
          },
          "execution_count": 16,
          "metadata": {},
          "output_type": "execute_result"
        }
      ],
      "source": [
        "# Select the cell and click on run icon to view the target values\n",
        "y"
      ]
    },
    {
      "cell_type": "markdown",
      "metadata": {
        "id": "_owNVlM6rRXt"
      },
      "source": [
        "**Observations from the above output:**\n",
        ">The variable **`target`** is converted into an array."
      ]
    },
    {
      "cell_type": "markdown",
      "metadata": {
        "id": "jnXiuXtFrRXt"
      },
      "source": [
        "**Note 8:**\n",
        "\n",
        "* In OneHotEncoder, the categories set as 'auto' determines the categories automatically.\n",
        "* The **reshape()** function reshapes an array without modifying its data.\n",
        "* The **toarray()** function helps to represent the data in array format."
      ]
    },
    {
      "cell_type": "code",
      "execution_count": null,
      "metadata": {
        "colab": {
          "base_uri": "https://localhost:8080/"
        },
        "id": "-QZ-PKky75z_",
        "outputId": "c919fd33-ea86-497e-c8bc-67b48e8e1572"
      },
      "outputs": [
        {
          "name": "stdout",
          "output_type": "stream",
          "text": [
            "[[1. 0. 0.]\n",
            " [1. 0. 0.]\n",
            " [1. 0. 0.]\n",
            " [1. 0. 0.]\n",
            " [1. 0. 0.]\n",
            " [1. 0. 0.]\n",
            " [1. 0. 0.]\n",
            " [1. 0. 0.]\n",
            " [1. 0. 0.]\n",
            " [1. 0. 0.]\n",
            " [1. 0. 0.]\n",
            " [1. 0. 0.]\n",
            " [1. 0. 0.]\n",
            " [1. 0. 0.]\n",
            " [1. 0. 0.]\n",
            " [1. 0. 0.]\n",
            " [1. 0. 0.]\n",
            " [1. 0. 0.]\n",
            " [1. 0. 0.]\n",
            " [1. 0. 0.]\n",
            " [1. 0. 0.]\n",
            " [1. 0. 0.]\n",
            " [1. 0. 0.]\n",
            " [1. 0. 0.]\n",
            " [1. 0. 0.]\n",
            " [1. 0. 0.]\n",
            " [1. 0. 0.]\n",
            " [1. 0. 0.]\n",
            " [1. 0. 0.]\n",
            " [1. 0. 0.]\n",
            " [1. 0. 0.]\n",
            " [1. 0. 0.]\n",
            " [1. 0. 0.]\n",
            " [1. 0. 0.]\n",
            " [1. 0. 0.]\n",
            " [1. 0. 0.]\n",
            " [1. 0. 0.]\n",
            " [1. 0. 0.]\n",
            " [1. 0. 0.]\n",
            " [1. 0. 0.]\n",
            " [1. 0. 0.]\n",
            " [1. 0. 0.]\n",
            " [1. 0. 0.]\n",
            " [1. 0. 0.]\n",
            " [1. 0. 0.]\n",
            " [1. 0. 0.]\n",
            " [1. 0. 0.]\n",
            " [1. 0. 0.]\n",
            " [1. 0. 0.]\n",
            " [1. 0. 0.]\n",
            " [0. 1. 0.]\n",
            " [0. 1. 0.]\n",
            " [0. 1. 0.]\n",
            " [0. 1. 0.]\n",
            " [0. 1. 0.]\n",
            " [0. 1. 0.]\n",
            " [0. 1. 0.]\n",
            " [0. 1. 0.]\n",
            " [0. 1. 0.]\n",
            " [0. 1. 0.]\n",
            " [0. 1. 0.]\n",
            " [0. 1. 0.]\n",
            " [0. 1. 0.]\n",
            " [0. 1. 0.]\n",
            " [0. 1. 0.]\n",
            " [0. 1. 0.]\n",
            " [0. 1. 0.]\n",
            " [0. 1. 0.]\n",
            " [0. 1. 0.]\n",
            " [0. 1. 0.]\n",
            " [0. 1. 0.]\n",
            " [0. 1. 0.]\n",
            " [0. 1. 0.]\n",
            " [0. 1. 0.]\n",
            " [0. 1. 0.]\n",
            " [0. 1. 0.]\n",
            " [0. 1. 0.]\n",
            " [0. 1. 0.]\n",
            " [0. 1. 0.]\n",
            " [0. 1. 0.]\n",
            " [0. 1. 0.]\n",
            " [0. 1. 0.]\n",
            " [0. 1. 0.]\n",
            " [0. 1. 0.]\n",
            " [0. 1. 0.]\n",
            " [0. 1. 0.]\n",
            " [0. 1. 0.]\n",
            " [0. 1. 0.]\n",
            " [0. 1. 0.]\n",
            " [0. 1. 0.]\n",
            " [0. 1. 0.]\n",
            " [0. 1. 0.]\n",
            " [0. 1. 0.]\n",
            " [0. 1. 0.]\n",
            " [0. 1. 0.]\n",
            " [0. 1. 0.]\n",
            " [0. 1. 0.]\n",
            " [0. 1. 0.]\n",
            " [0. 1. 0.]\n",
            " [0. 1. 0.]\n",
            " [0. 0. 1.]\n",
            " [0. 0. 1.]\n",
            " [0. 0. 1.]\n",
            " [0. 0. 1.]\n",
            " [0. 0. 1.]\n",
            " [0. 0. 1.]\n",
            " [0. 0. 1.]\n",
            " [0. 0. 1.]\n",
            " [0. 0. 1.]\n",
            " [0. 0. 1.]\n",
            " [0. 0. 1.]\n",
            " [0. 0. 1.]\n",
            " [0. 0. 1.]\n",
            " [0. 0. 1.]\n",
            " [0. 0. 1.]\n",
            " [0. 0. 1.]\n",
            " [0. 0. 1.]\n",
            " [0. 0. 1.]\n",
            " [0. 0. 1.]\n",
            " [0. 0. 1.]\n",
            " [0. 0. 1.]\n",
            " [0. 0. 1.]\n",
            " [0. 0. 1.]\n",
            " [0. 0. 1.]\n",
            " [0. 0. 1.]\n",
            " [0. 0. 1.]\n",
            " [0. 0. 1.]\n",
            " [0. 0. 1.]\n",
            " [0. 0. 1.]\n",
            " [0. 0. 1.]\n",
            " [0. 0. 1.]\n",
            " [0. 0. 1.]\n",
            " [0. 0. 1.]\n",
            " [0. 0. 1.]\n",
            " [0. 0. 1.]\n",
            " [0. 0. 1.]\n",
            " [0. 0. 1.]\n",
            " [0. 0. 1.]\n",
            " [0. 0. 1.]\n",
            " [0. 0. 1.]\n",
            " [0. 0. 1.]\n",
            " [0. 0. 1.]\n",
            " [0. 0. 1.]\n",
            " [0. 0. 1.]\n",
            " [0. 0. 1.]\n",
            " [0. 0. 1.]\n",
            " [0. 0. 1.]\n",
            " [0. 0. 1.]\n",
            " [0. 0. 1.]\n",
            " [0. 0. 1.]]\n"
          ]
        }
      ],
      "source": [
        "#Select the cell and click on run icon\n",
        "onehotencoder = OneHotEncoder(categories='auto')\n",
        "y = onehotencoder.fit_transform(y.reshape(-1,1))\n",
        "print(y.toarray())"
      ]
    },
    {
      "cell_type": "markdown",
      "metadata": {
        "id": "a-RRBCnarRXt"
      },
      "source": [
        "**Observations from the above output:**\n",
        ">With the help of above output, you can see that variable **`target`** is converted into numerical variable as 0's and 1's into three separate categories ."
      ]
    },
    {
      "cell_type": "markdown",
      "metadata": {
        "id": "DIorPp2KrRXt"
      },
      "source": [
        "**Note 9:**\n",
        "\n",
        "The **get_dummies()** function is used for data manipulation and converts categorical variable to numerical variables ."
      ]
    },
    {
      "cell_type": "code",
      "execution_count": null,
      "metadata": {
        "colab": {
          "base_uri": "https://localhost:8080/",
          "height": 204
        },
        "id": "hJj5x8F875uK",
        "outputId": "38c38a6b-9e34-4a1c-bb3d-32d0973bc8c9"
      },
      "outputs": [
        {
          "data": {
            "text/html": [
              "<div>\n",
              "<style scoped>\n",
              "    .dataframe tbody tr th:only-of-type {\n",
              "        vertical-align: middle;\n",
              "    }\n",
              "\n",
              "    .dataframe tbody tr th {\n",
              "        vertical-align: top;\n",
              "    }\n",
              "\n",
              "    .dataframe thead th {\n",
              "        text-align: right;\n",
              "    }\n",
              "</style>\n",
              "<table border=\"1\" class=\"dataframe\">\n",
              "  <thead>\n",
              "    <tr style=\"text-align: right;\">\n",
              "      <th></th>\n",
              "      <th>0.0</th>\n",
              "      <th>1.0</th>\n",
              "      <th>2.0</th>\n",
              "    </tr>\n",
              "  </thead>\n",
              "  <tbody>\n",
              "    <tr>\n",
              "      <th>0</th>\n",
              "      <td>1</td>\n",
              "      <td>0</td>\n",
              "      <td>0</td>\n",
              "    </tr>\n",
              "    <tr>\n",
              "      <th>1</th>\n",
              "      <td>1</td>\n",
              "      <td>0</td>\n",
              "      <td>0</td>\n",
              "    </tr>\n",
              "    <tr>\n",
              "      <th>2</th>\n",
              "      <td>1</td>\n",
              "      <td>0</td>\n",
              "      <td>0</td>\n",
              "    </tr>\n",
              "    <tr>\n",
              "      <th>3</th>\n",
              "      <td>1</td>\n",
              "      <td>0</td>\n",
              "      <td>0</td>\n",
              "    </tr>\n",
              "    <tr>\n",
              "      <th>4</th>\n",
              "      <td>1</td>\n",
              "      <td>0</td>\n",
              "      <td>0</td>\n",
              "    </tr>\n",
              "  </tbody>\n",
              "</table>\n",
              "</div>"
            ],
            "text/plain": [
              "   0.0  1.0  2.0\n",
              "0    1    0    0\n",
              "1    1    0    0\n",
              "2    1    0    0\n",
              "3    1    0    0\n",
              "4    1    0    0"
            ]
          },
          "execution_count": 8,
          "metadata": {},
          "output_type": "execute_result"
        }
      ],
      "source": [
        "#Select the cell and click on run icon\n",
        "pd.get_dummies(iris_data.target).head()"
      ]
    },
    {
      "cell_type": "markdown",
      "metadata": {
        "id": "NozOdU6SrRXu"
      },
      "source": [
        "**Observations from the above output:**\n",
        ">The target values are converted into dummy values in three different columns."
      ]
    },
    {
      "cell_type": "markdown",
      "metadata": {
        "id": "UVHxugcR0OQw"
      },
      "source": [
        "## <b>Hashing</b>\n",
        "\n",
        "Hashing is a technique that combines more than one category of a categorical variable into one single category.\n",
        "\n",
        "There are three advantages in one-hot encoding or set-of word model:\n",
        "\n",
        "- It’s much simpler to code\n",
        "- It doesn’t require any dictionaries to prepare\n",
        "- It’s friendly to online learning where you can train on a data set that doesn’t fit in memory because you need to see each example only once. One-hot encoding will not work well with online learning because to prepare dictionaries you need to see the whole data set first\n",
        "\n",
        "## <b>Feature Hashing</b>\n",
        "\n",
        "\n",
        "Feature hasing is a important technique for handling sparse and high-dimensional features in machine learning.\n",
        "\n",
        "- It is fast, simple, memory-efficient, and well-suited to online learning sceanrios.\n",
        "- It converts unique tokens into integers.\n",
        "- It operates on the exact strings that you provide as input and does not perform any linguistic analysis or preprocessing.\n"
      ]
    },
    {
      "cell_type": "markdown",
      "metadata": {
        "id": "LbFcGgferRXu"
      },
      "source": [
        "## Techniques to merge categories:"
      ]
    },
    {
      "cell_type": "markdown",
      "metadata": {
        "id": "ie9CX5EB0OQw"
      },
      "source": [
        "### **Business Logic**\n",
        "\n",
        "Consider a column in the dataset corresponds to \"zip codes\". There are 182 zip codes in New York state and it is impractical to use each zip code as a separate category.\n",
        "So, to tackle this situation we can merge the zip codes according to localities.\n",
        "This helps to reduce the number of categories and results in meaningful aggregation of zip code."
      ]
    },
    {
      "cell_type": "markdown",
      "metadata": {
        "id": "26Wyphg-0OQx"
      },
      "source": [
        "### **Frequency**\n",
        "\n",
        "- It is not possible to apply business logic every time. In such cases, perform hashing using the frequency of occurrence.\n",
        "- To combine levels using their frequency, we first look at the frequency distribution of each level and combine levels having frequency say less than 5% of total observation (can be changed based on distribution).\n",
        "- This is an effective method to deal with rare levels.\n",
        "- We can also combine levels by considering the response rate of each level. We can simply combine levels having similar response rates into the same group."
      ]
    },
    {
      "cell_type": "markdown",
      "metadata": {
        "id": "2WQe6ceN0OQ0"
      },
      "source": [
        "Now we'll see all the concepts explained with the help of a business use case."
      ]
    },
    {
      "cell_type": "markdown",
      "metadata": {
        "id": "Fu5JgI0xrRXu"
      },
      "source": [
        "### There is a libraries required to perform encoding variables:\n",
        "* FeatureHasher - Feature hashing can be employed in document classification and helps to extract important features from large text corpus.\n"
      ]
    },
    {
      "cell_type": "code",
      "execution_count": null,
      "metadata": {
        "id": "1ejxIdC79Epn"
      },
      "outputs": [],
      "source": [
        "#Select the cell and click on run icon\n",
        "from sklearn.feature_extraction import FeatureHasher"
      ]
    },
    {
      "cell_type": "markdown",
      "metadata": {
        "id": "vcByzpo2rRXu"
      },
      "source": [
        "**Instruction:**\n",
        "\n",
        "Download the **`vgsales.csv`** dataset file from Course Resources and upload it in the lab using the Up arrow as shown below on the View Tab"
      ]
    },
    {
      "cell_type": "markdown",
      "metadata": {
        "id": "V1rcnAFcrRXv"
      },
      "source": [
        "**Note 10:**  \n",
        "* The **`game_df`** is dataframe to store the data imported from the csv as rows and columns table format.\n",
        "* The encoding is specified as 'UTF-8' as the file type converion of the csv file.\n",
        "* The **head()** function helps to view first few data present in the dataframe."
      ]
    },
    {
      "cell_type": "code",
      "execution_count": null,
      "metadata": {
        "colab": {
          "base_uri": "https://localhost:8080/",
          "height": 204
        },
        "id": "BEkzDe-f9Kv1",
        "outputId": "faf3e89e-cff5-4216-9244-f41b24985452"
      },
      "outputs": [
        {
          "data": {
            "text/html": [
              "<div>\n",
              "<style scoped>\n",
              "    .dataframe tbody tr th:only-of-type {\n",
              "        vertical-align: middle;\n",
              "    }\n",
              "\n",
              "    .dataframe tbody tr th {\n",
              "        vertical-align: top;\n",
              "    }\n",
              "\n",
              "    .dataframe thead th {\n",
              "        text-align: right;\n",
              "    }\n",
              "</style>\n",
              "<table border=\"1\" class=\"dataframe\">\n",
              "  <thead>\n",
              "    <tr style=\"text-align: right;\">\n",
              "      <th></th>\n",
              "      <th>Rank</th>\n",
              "      <th>Name</th>\n",
              "      <th>Platform</th>\n",
              "      <th>Year</th>\n",
              "      <th>Genre</th>\n",
              "      <th>Publisher</th>\n",
              "      <th>NA_Sales</th>\n",
              "      <th>EU_Sales</th>\n",
              "      <th>JP_Sales</th>\n",
              "      <th>Other_Sales</th>\n",
              "      <th>Global_Sales</th>\n",
              "    </tr>\n",
              "  </thead>\n",
              "  <tbody>\n",
              "    <tr>\n",
              "      <th>0</th>\n",
              "      <td>1</td>\n",
              "      <td>Wii Sports</td>\n",
              "      <td>Wii</td>\n",
              "      <td>2006.0</td>\n",
              "      <td>Sports</td>\n",
              "      <td>Nintendo</td>\n",
              "      <td>41.49</td>\n",
              "      <td>29.02</td>\n",
              "      <td>3.77</td>\n",
              "      <td>8.46</td>\n",
              "      <td>82.74</td>\n",
              "    </tr>\n",
              "    <tr>\n",
              "      <th>1</th>\n",
              "      <td>2</td>\n",
              "      <td>Super Mario Bros.</td>\n",
              "      <td>NES</td>\n",
              "      <td>1985.0</td>\n",
              "      <td>Platform</td>\n",
              "      <td>Nintendo</td>\n",
              "      <td>29.08</td>\n",
              "      <td>3.58</td>\n",
              "      <td>6.81</td>\n",
              "      <td>0.77</td>\n",
              "      <td>40.24</td>\n",
              "    </tr>\n",
              "    <tr>\n",
              "      <th>2</th>\n",
              "      <td>3</td>\n",
              "      <td>Mario Kart Wii</td>\n",
              "      <td>Wii</td>\n",
              "      <td>2008.0</td>\n",
              "      <td>Racing</td>\n",
              "      <td>Nintendo</td>\n",
              "      <td>15.85</td>\n",
              "      <td>12.88</td>\n",
              "      <td>3.79</td>\n",
              "      <td>3.31</td>\n",
              "      <td>35.82</td>\n",
              "    </tr>\n",
              "    <tr>\n",
              "      <th>3</th>\n",
              "      <td>4</td>\n",
              "      <td>Wii Sports Resort</td>\n",
              "      <td>Wii</td>\n",
              "      <td>2009.0</td>\n",
              "      <td>Sports</td>\n",
              "      <td>Nintendo</td>\n",
              "      <td>15.75</td>\n",
              "      <td>11.01</td>\n",
              "      <td>3.28</td>\n",
              "      <td>2.96</td>\n",
              "      <td>33.00</td>\n",
              "    </tr>\n",
              "    <tr>\n",
              "      <th>4</th>\n",
              "      <td>5</td>\n",
              "      <td>Pokemon Red/Pokemon Blue</td>\n",
              "      <td>GB</td>\n",
              "      <td>1996.0</td>\n",
              "      <td>Role-Playing</td>\n",
              "      <td>Nintendo</td>\n",
              "      <td>11.27</td>\n",
              "      <td>8.89</td>\n",
              "      <td>10.22</td>\n",
              "      <td>1.00</td>\n",
              "      <td>31.37</td>\n",
              "    </tr>\n",
              "  </tbody>\n",
              "</table>\n",
              "</div>"
            ],
            "text/plain": [
              "   Rank                      Name Platform    Year         Genre Publisher  \\\n",
              "0     1                Wii Sports      Wii  2006.0        Sports  Nintendo   \n",
              "1     2         Super Mario Bros.      NES  1985.0      Platform  Nintendo   \n",
              "2     3            Mario Kart Wii      Wii  2008.0        Racing  Nintendo   \n",
              "3     4         Wii Sports Resort      Wii  2009.0        Sports  Nintendo   \n",
              "4     5  Pokemon Red/Pokemon Blue       GB  1996.0  Role-Playing  Nintendo   \n",
              "\n",
              "   NA_Sales  EU_Sales  JP_Sales  Other_Sales  Global_Sales  \n",
              "0     41.49     29.02      3.77         8.46         82.74  \n",
              "1     29.08      3.58      6.81         0.77         40.24  \n",
              "2     15.85     12.88      3.79         3.31         35.82  \n",
              "3     15.75     11.01      3.28         2.96         33.00  \n",
              "4     11.27      8.89     10.22         1.00         31.37  "
            ]
          },
          "execution_count": 20,
          "metadata": {},
          "output_type": "execute_result"
        }
      ],
      "source": [
        "#Select the cell and click on run icon\n",
        "game_df = pd.read_csv(\"vgsales.csv\", encoding=\"utf-8\")\n",
        "game_df.head()"
      ]
    },
    {
      "cell_type": "markdown",
      "metadata": {
        "id": "ONEi_sHirRXv"
      },
      "source": [
        "**Note 11:**\n",
        "\n",
        "The **columns** provides the name of the columns present in the **`game_df`** dataframe."
      ]
    },
    {
      "cell_type": "code",
      "execution_count": null,
      "metadata": {
        "colab": {
          "base_uri": "https://localhost:8080/"
        },
        "id": "yNlSEJxG9fvO",
        "outputId": "51138292-df97-4924-ab73-594ea2c819ad"
      },
      "outputs": [
        {
          "data": {
            "text/plain": [
              "Index(['Rank', 'Name', 'Platform', 'Year', 'Genre', 'Publisher', 'NA_Sales',\n",
              "       'EU_Sales', 'JP_Sales', 'Other_Sales', 'Global_Sales'],\n",
              "      dtype='object')"
            ]
          },
          "execution_count": 21,
          "metadata": {},
          "output_type": "execute_result"
        }
      ],
      "source": [
        "#Select the cell and click on run icon\n",
        "game_df.columns"
      ]
    },
    {
      "cell_type": "markdown",
      "metadata": {
        "id": "EpHecxpUrRXv"
      },
      "source": [
        "**Observations from the above output:**\n",
        ">The column names such as Rank, Name, Platform, Year, Genre, Publisher, NA_Sales,\n",
        "       EU_Sales, JP_Sales, Other_Sales, and Global_Sales present in the **`game_df`** dataframe."
      ]
    },
    {
      "cell_type": "markdown",
      "metadata": {
        "id": "p-xX0kAbrRXv"
      },
      "source": [
        "**Note 12:**\n",
        "\n",
        "The **shape** represents the number of elements in each dimension and returns a tuple with each index having the number of corresponding elements."
      ]
    },
    {
      "cell_type": "code",
      "execution_count": null,
      "metadata": {
        "colab": {
          "base_uri": "https://localhost:8080/"
        },
        "id": "11qVPaSP9szm",
        "outputId": "3cfb3db6-ea21-4f58-9fdb-248276270e8e"
      },
      "outputs": [
        {
          "data": {
            "text/plain": [
              "(16598, 11)"
            ]
          },
          "execution_count": 22,
          "metadata": {},
          "output_type": "execute_result"
        }
      ],
      "source": [
        "#Select the cell and click on run icon\n",
        "game_df.shape"
      ]
    },
    {
      "cell_type": "markdown",
      "metadata": {
        "id": "t11TNpoIrRXv"
      },
      "source": [
        "**Observations we can draw from the above output:**\n",
        "\n",
        ">There are 16598 rows and 11 columns present in the **`game_df`** dataframe."
      ]
    },
    {
      "cell_type": "markdown",
      "metadata": {
        "id": "PMPPM-xmrRXv"
      },
      "source": [
        "**Note 13:**\n",
        "\n",
        "* The **iloc** is integer-index based that helps to extract the required number of rows or columns by specifying the integer index value present in the dataframe.\n",
        "* Example: iloc[1:7] represents six rows, as it substracts one from seven."
      ]
    },
    {
      "cell_type": "code",
      "execution_count": null,
      "metadata": {
        "colab": {
          "base_uri": "https://localhost:8080/",
          "height": 235
        },
        "id": "rxxqH4BL9jOc",
        "outputId": "b7857ce1-4cc6-4a92-99b9-75f3159fd180"
      },
      "outputs": [
        {
          "data": {
            "text/html": [
              "<div>\n",
              "<style scoped>\n",
              "    .dataframe tbody tr th:only-of-type {\n",
              "        vertical-align: middle;\n",
              "    }\n",
              "\n",
              "    .dataframe tbody tr th {\n",
              "        vertical-align: top;\n",
              "    }\n",
              "\n",
              "    .dataframe thead th {\n",
              "        text-align: right;\n",
              "    }\n",
              "</style>\n",
              "<table border=\"1\" class=\"dataframe\">\n",
              "  <thead>\n",
              "    <tr style=\"text-align: right;\">\n",
              "      <th></th>\n",
              "      <th>Name</th>\n",
              "      <th>Platform</th>\n",
              "      <th>Year</th>\n",
              "      <th>Genre</th>\n",
              "      <th>Publisher</th>\n",
              "    </tr>\n",
              "  </thead>\n",
              "  <tbody>\n",
              "    <tr>\n",
              "      <th>1</th>\n",
              "      <td>Super Mario Bros.</td>\n",
              "      <td>NES</td>\n",
              "      <td>1985.0</td>\n",
              "      <td>Platform</td>\n",
              "      <td>Nintendo</td>\n",
              "    </tr>\n",
              "    <tr>\n",
              "      <th>2</th>\n",
              "      <td>Mario Kart Wii</td>\n",
              "      <td>Wii</td>\n",
              "      <td>2008.0</td>\n",
              "      <td>Racing</td>\n",
              "      <td>Nintendo</td>\n",
              "    </tr>\n",
              "    <tr>\n",
              "      <th>3</th>\n",
              "      <td>Wii Sports Resort</td>\n",
              "      <td>Wii</td>\n",
              "      <td>2009.0</td>\n",
              "      <td>Sports</td>\n",
              "      <td>Nintendo</td>\n",
              "    </tr>\n",
              "    <tr>\n",
              "      <th>4</th>\n",
              "      <td>Pokemon Red/Pokemon Blue</td>\n",
              "      <td>GB</td>\n",
              "      <td>1996.0</td>\n",
              "      <td>Role-Playing</td>\n",
              "      <td>Nintendo</td>\n",
              "    </tr>\n",
              "    <tr>\n",
              "      <th>5</th>\n",
              "      <td>Tetris</td>\n",
              "      <td>GB</td>\n",
              "      <td>1989.0</td>\n",
              "      <td>Puzzle</td>\n",
              "      <td>Nintendo</td>\n",
              "    </tr>\n",
              "    <tr>\n",
              "      <th>6</th>\n",
              "      <td>New Super Mario Bros.</td>\n",
              "      <td>DS</td>\n",
              "      <td>2006.0</td>\n",
              "      <td>Platform</td>\n",
              "      <td>Nintendo</td>\n",
              "    </tr>\n",
              "  </tbody>\n",
              "</table>\n",
              "</div>"
            ],
            "text/plain": [
              "                       Name Platform    Year         Genre Publisher\n",
              "1         Super Mario Bros.      NES  1985.0      Platform  Nintendo\n",
              "2            Mario Kart Wii      Wii  2008.0        Racing  Nintendo\n",
              "3         Wii Sports Resort      Wii  2009.0        Sports  Nintendo\n",
              "4  Pokemon Red/Pokemon Blue       GB  1996.0  Role-Playing  Nintendo\n",
              "5                    Tetris       GB  1989.0        Puzzle  Nintendo\n",
              "6     New Super Mario Bros.       DS  2006.0      Platform  Nintendo"
            ]
          },
          "execution_count": 23,
          "metadata": {},
          "output_type": "execute_result"
        }
      ],
      "source": [
        "#Select the cell and click on run icon\n",
        "game_df[['Name', 'Platform', 'Year', 'Genre', 'Publisher']].iloc[1:7]"
      ]
    },
    {
      "cell_type": "markdown",
      "metadata": {
        "id": "w5nIT_uhrRXw"
      },
      "source": [
        "**Observations we can draw from the above output:**\n",
        ">There are six rows present in the **`game_df`** dataframe as specified in the iloc."
      ]
    },
    {
      "cell_type": "markdown",
      "metadata": {
        "id": "CUm10lasrRXw"
      },
      "source": [
        "**Note 14:**\n",
        "\n",
        "* The **unique()** function extracts unique values present in a particular variable or dataframe.\n",
        "* The **len()** function calculates the total number of elements present of a variable or dataframe.\n",
        "* The **print()** function is used to display the result."
      ]
    },
    {
      "cell_type": "code",
      "execution_count": null,
      "metadata": {
        "colab": {
          "base_uri": "https://localhost:8080/"
        },
        "id": "ybn41ZAi9zd7",
        "outputId": "fd94b397-f747-4fb0-b74f-2759eb0fd967"
      },
      "outputs": [
        {
          "name": "stdout",
          "output_type": "stream",
          "text": [
            "Total game generes: 12\n",
            "['Action' 'Adventure' 'Fighting' 'Misc' 'Platform' 'Puzzle' 'Racing'\n",
            " 'Role-Playing' 'Shooter' 'Simulation' 'Sports' 'Strategy']\n"
          ]
        }
      ],
      "source": [
        "#Select the cell and click on run icon\n",
        "u_generes = np.unique(game_df[\"Genre\"])\n",
        "print(\"Total game generes:\", len(u_generes))\n",
        "print(u_generes)"
      ]
    },
    {
      "cell_type": "markdown",
      "metadata": {
        "id": "MwwTKypprRXw"
      },
      "source": [
        "**Observations we can draw from the above output:**\n",
        "\n",
        "> The **'u_generes'** variable stores unique features such as Action, Adventure, Fighting, Misc, Platform, Puzzle, Racing,\n",
        " Role-Playing, Shooter, Simulation, Sports, and Strategy and the total count is 12 present in the **'genre'** column of **`game_df`** dataframe."
      ]
    }
  ],
  "metadata": {
    "colab": {
      "provenance": [],
      "include_colab_link": true
    },
    "kernelspec": {
      "display_name": "Python 3",
      "language": "python",
      "name": "python3"
    },
    "language_info": {
      "codemirror_mode": {
        "name": "ipython",
        "version": 3
      },
      "file_extension": ".py",
      "mimetype": "text/x-python",
      "name": "python",
      "nbconvert_exporter": "python",
      "pygments_lexer": "ipython3",
      "version": "3.8.5"
    }
  },
  "nbformat": 4,
  "nbformat_minor": 0
}